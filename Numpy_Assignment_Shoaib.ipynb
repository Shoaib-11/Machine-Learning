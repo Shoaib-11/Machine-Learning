{
 "cells": [
  {
   "cell_type": "markdown",
   "metadata": {},
   "source": [
    "#### Importing the Libraries:"
   ]
  },
  {
   "cell_type": "code",
   "execution_count": 1,
   "metadata": {},
   "outputs": [],
   "source": [
    "import pandas as pd\n",
    "import numpy as np\n",
    "import matplotlib.pyplot as plt"
   ]
  },
  {
   "cell_type": "markdown",
   "metadata": {},
   "source": [
    "#### Question 1:\n",
    "\n",
    "* Write a function so that the columns of the output matrix are powers of the input vector. The order of the powers is determined by the increasing boolean argument. Specifically, when increasing is False, the i-th output column is the input vector raised element-wise to the power of N - i - 1.\n",
    "\n",
    "\n",
    "* HINT: Such a matrix with a geometric progression in each row is named for Alexandre-\n",
    "Theophile Vandermonde."
   ]
  },
  {
   "cell_type": "markdown",
   "metadata": {},
   "source": [
    "#### Solution:\n",
    "\n",
    "My approach to create such function would be:\n",
    "\n",
    "* Iterating over the array given for N(number of columns i.e. given) number of times for both cases.\n",
    "* If increasing = False i.e default, raising each element to power = N-i-1.\n",
    "* Else if increasing = True, raising each element to power i.\n",
    "* Finally, reshaping the matrix in the shape(size of array, N)"
   ]
  },
  {
   "cell_type": "code",
   "execution_count": 29,
   "metadata": {},
   "outputs": [],
   "source": [
    "def vander_matrix(arr, N , increasing = False):\n",
    "    '''\n",
    "    Returns a matrix whose columns are power of input vector.\n",
    "    When increasing is False, the i-th output column is the input vector raised element-wise to the power of N - i - 1.\n",
    "    '''\n",
    "    if not increasing:\n",
    "        mat = np.array([x**(N-i-1) for x in arr for i in range(N)]).reshape(arr.size,N)\n",
    "    elif increasing:\n",
    "        mat = np.array([x**i for x in arr for i in range(N)]).reshape(arr.size,N)\n",
    "    \n",
    "    return mat"
   ]
  },
  {
   "cell_type": "markdown",
   "metadata": {},
   "source": [
    "##### Illustrating with an example:"
   ]
  },
  {
   "cell_type": "code",
   "execution_count": 30,
   "metadata": {},
   "outputs": [
    {
     "name": "stdout",
     "output_type": "stream",
     "text": [
      "The input array is: [1 2 3 5] \n",
      "\n",
      "Number of columns in output matrix should be: 3 \n",
      "\n",
      "Vander matrix of the input array in decreasing order of powers:\n",
      "\n",
      " [[ 1  1  1]\n",
      " [ 4  2  1]\n",
      " [ 9  3  1]\n",
      " [25  5  1]] \n",
      "\n",
      "Vander matrix of the input array in increasing order of powers:\n",
      "\n",
      " [[ 1  1  1]\n",
      " [ 1  2  4]\n",
      " [ 1  3  9]\n",
      " [ 1  5 25]] \n",
      "\n"
     ]
    }
   ],
   "source": [
    "arr = np.array([1, 2, 3, 5])\n",
    "N = 3\n",
    "\n",
    "print(\"The input array is:\",arr,\"\\n\")\n",
    "print(\"Number of columns in output matrix should be:\",N,\"\\n\")\n",
    "print(\"Vander matrix of the input array in decreasing order of powers:\\n\\n\",vander_matrix(arr, N),\"\\n\")\n",
    "print(\"Vander matrix of the input array in increasing order of powers:\\n\\n\",vander_matrix(arr, N, True),\"\\n\")"
   ]
  },
  {
   "cell_type": "markdown",
   "metadata": {},
   "source": [
    "#### Question 2:\n",
    "\n",
    "* Given a sequence of n values x1, x2, ..., xn and a window size k>0, the k-th moving average of the given sequence is defined as follows:\n",
    "* The moving average sequence has n-k+1 elements as shown below.\n",
    "\n",
    "* The moving averages with k=4 of a ten-value sequence (n=10) is shown below\n",
    "\n",
    "* i 1 2 3 4 5 6 7 8 9 10\n",
    "* ===== == == == == == == == == == ==\n",
    "* Input 10 20 30 40 50 60 70 80 90 100\n",
    "* y1 25 = (10+20+30+40)/4\n",
    "* y2 35 = (20+30+40+50)/4\n",
    "* y3 45 = (30+40+50+60)/4\n",
    "* y4 55 = (40+50+60+70)/4\n",
    "* y5 65 = (50+60+70+80)/4\n",
    "* y6 75 = (60+70+80+90)/4\n",
    "* y7 85 = (70+80+90+100)/4\n",
    "\n",
    "* Thus, the moving average sequence has n-k+1=10-4+1=7 values.\n",
    "\n",
    "* Question: Write a function to find moving average in an array over a window:\n",
    "* Test it over [3, 5, 7, 2, 8, 10, 11, 65, 72, 81, 99, 100, 150] and window of 3."
   ]
  },
  {
   "cell_type": "code",
   "execution_count": 31,
   "metadata": {},
   "outputs": [],
   "source": [
    "def moving_average(arr, w):\n",
    "    \n",
    "    mov_arr = []\n",
    "    \n",
    "    for i in range(len(arr) - w + 1):\n",
    "        x = sum(arr[i:i+w])/w\n",
    "        mov_arr.append(x)\n",
    "    \n",
    "    return np.array(mov_arr)"
   ]
  },
  {
   "cell_type": "markdown",
   "metadata": {},
   "source": [
    "##### Testing it over solved example :"
   ]
  },
  {
   "cell_type": "code",
   "execution_count": 35,
   "metadata": {},
   "outputs": [
    {
     "data": {
      "text/plain": [
       "array([25., 35., 45., 55., 65., 75., 85.])"
      ]
     },
     "execution_count": 35,
     "metadata": {},
     "output_type": "execute_result"
    }
   ],
   "source": [
    "moving_average([10,20,30,40,50,60,70,80,90,100], 4)"
   ]
  },
  {
   "cell_type": "markdown",
   "metadata": {},
   "source": [
    "##### Testing it over unsolved example !"
   ]
  },
  {
   "cell_type": "code",
   "execution_count": 33,
   "metadata": {},
   "outputs": [
    {
     "data": {
      "text/plain": [
       "array([  5.  ,   4.67,   5.67,   6.67,   9.67,  28.67,  49.33,  72.67,\n",
       "        84.  ,  93.33, 116.33])"
      ]
     },
     "execution_count": 33,
     "metadata": {},
     "output_type": "execute_result"
    }
   ],
   "source": [
    "moving_average([3, 5, 7, 2, 8, 10, 11, 65, 72, 81, 99, 100, 150], 3).round(2)"
   ]
  },
  {
   "cell_type": "markdown",
   "metadata": {},
   "source": [
    "# Done !"
   ]
  }
 ],
 "metadata": {
  "kernelspec": {
   "display_name": "Python 3",
   "language": "python",
   "name": "python3"
  },
  "language_info": {
   "codemirror_mode": {
    "name": "ipython",
    "version": 3
   },
   "file_extension": ".py",
   "mimetype": "text/x-python",
   "name": "python",
   "nbconvert_exporter": "python",
   "pygments_lexer": "ipython3",
   "version": "3.6.5"
  }
 },
 "nbformat": 4,
 "nbformat_minor": 2
}
