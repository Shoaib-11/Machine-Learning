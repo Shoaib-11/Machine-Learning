{
 "cells": [
  {
   "cell_type": "markdown",
   "metadata": {},
   "source": [
    "# Task 1:"
   ]
  },
  {
   "cell_type": "markdown",
   "metadata": {},
   "source": [
    "## Question 1:\n",
    "\n",
    "Write a function to compute 5/0 and use try/except to catch the exceptions."
   ]
  },
  {
   "cell_type": "code",
   "execution_count": 1,
   "metadata": {},
   "outputs": [],
   "source": [
    "def Five_div_zero():\n",
    "    try:\n",
    "        return 5/0\n",
    "    \n",
    "    except ZeroDivisionError:\n",
    "        print(\"Division by zero not allowed !!\")\n",
    "\n",
    "    except:\n",
    "        print(\"An error has occured. Provide valid inputs\")"
   ]
  },
  {
   "cell_type": "code",
   "execution_count": 2,
   "metadata": {},
   "outputs": [
    {
     "name": "stdout",
     "output_type": "stream",
     "text": [
      "Division by zero not allowed !!\n"
     ]
    }
   ],
   "source": [
    "Five_div_zero() # Due to ZeroDivisionError, first except statement will be executed !!"
   ]
  },
  {
   "cell_type": "markdown",
   "metadata": {},
   "source": [
    "## Question 2:\n",
    "\n",
    "* Implement a Python program to generate all sentences where subject is in [\"Americans\", \"Indians\"] and verb is in [\"Play\", \"watch\"] and the object is in [\"Baseball\",\"cricket\"].\n",
    "* Hint: Subject,Verb and Object should be declared in the program as shown below.\n",
    "* subjects = [ \"Americans \",\"Indians\" ]\n",
    "* verbs = [ \"play\",\"watch\" ]\n",
    "* objects = [ \"Baseball\",\"Cricket\" ]\n",
    "* Output should come as below:\n",
    "* Americans play Baseball.\n",
    "* Americans play Cricket.\n",
    "* Americans watch Baseball.\n",
    "* Americans watch Cricket.\n",
    "* Indians play Baseball.\n",
    "* Indians play Cricket.\n",
    "* Indians watch Baseball.\n",
    "* Indians watch Cricket."
   ]
  },
  {
   "cell_type": "code",
   "execution_count": 3,
   "metadata": {},
   "outputs": [
    {
     "name": "stdout",
     "output_type": "stream",
     "text": [
      "Americans play Baseball\n",
      "Americans play Cricket\n",
      "Americans watch Baseball\n",
      "Americans watch Cricket\n",
      "Indians play Baseball\n",
      "Indians play Cricket\n",
      "Indians watch Baseball\n",
      "Indians watch Cricket\n"
     ]
    }
   ],
   "source": [
    "subjects = [\"Americans\",\"Indians\"]\n",
    "verbs = [\"play\",\"watch\"]\n",
    "objects = [\"Baseball\",\"Cricket\"]\n",
    "\n",
    "my_list = [sub + \" \" + verb + \" \" + obj for sub in subjects for verb in verbs for obj in objects]\n",
    "\n",
    "for sentence in my_list:\n",
    "    print(sentence)"
   ]
  },
  {
   "cell_type": "markdown",
   "metadata": {},
   "source": [
    "# Task 2:"
   ]
  },
  {
   "cell_type": "markdown",
   "metadata": {},
   "source": [
    "#### Question 1:\n",
    "\n",
    "* Write a function so that the columns of the output matrix are powers of the input vector. The order of the powers is determined by the increasing boolean argument. Specifically, when increasing is False, the i-th output column is the input vector raised element-wise to the power of N - i - 1.\n",
    "\n",
    "\n",
    "* HINT: Such a matrix with a geometric progression in each row is named for Alexandre-\n",
    "Theophile Vandermonde."
   ]
  },
  {
   "cell_type": "markdown",
   "metadata": {},
   "source": [
    "#### Solution:\n",
    "\n",
    "My approach to create such function would be:\n",
    "\n",
    "* Iterating over the array given for N(number of columns i.e. given) number of times for both cases.\n",
    "* If increasing = False i.e default, raising each element to power = N-i-1.\n",
    "* Else if increasing = True, raising each element to power i.\n",
    "* Finally, reshaping the matrix in the shape(size of array, N)"
   ]
  },
  {
   "cell_type": "code",
   "execution_count": 1,
   "metadata": {},
   "outputs": [],
   "source": [
    "import pandas as pd\n",
    "import numpy as np\n",
    "import matplotlib.pyplot as plt"
   ]
  },
  {
   "cell_type": "code",
   "execution_count": 2,
   "metadata": {},
   "outputs": [],
   "source": [
    "def vander_matrix(arr, N , increasing = False):\n",
    "    '''\n",
    "    Returns a matrix whose columns are power of input vector.\n",
    "    When increasing is False, the i-th output column is the input vector raised element-wise to the power of N - i - 1.\n",
    "    '''\n",
    "    if not increasing:\n",
    "        mat = np.array([x**(N-i-1) for x in arr for i in range(N)]).reshape(arr.size,N)\n",
    "    elif increasing:\n",
    "        mat = np.array([x**i for x in arr for i in range(N)]).reshape(arr.size,N)\n",
    "    \n",
    "    return mat"
   ]
  },
  {
   "cell_type": "markdown",
   "metadata": {},
   "source": [
    "##### Illustrating with an example:"
   ]
  },
  {
   "cell_type": "code",
   "execution_count": 3,
   "metadata": {},
   "outputs": [
    {
     "name": "stdout",
     "output_type": "stream",
     "text": [
      "The input array is: [1 2 3 5] \n",
      "\n",
      "Number of columns in output matrix should be: 3 \n",
      "\n",
      "Vander matrix of the input array in decreasing order of powers:\n",
      "\n",
      " [[ 1  1  1]\n",
      " [ 4  2  1]\n",
      " [ 9  3  1]\n",
      " [25  5  1]] \n",
      "\n",
      "Vander matrix of the input array in increasing order of powers:\n",
      "\n",
      " [[ 1  1  1]\n",
      " [ 1  2  4]\n",
      " [ 1  3  9]\n",
      " [ 1  5 25]] \n",
      "\n"
     ]
    }
   ],
   "source": [
    "arr = np.array([1, 2, 3, 5])\n",
    "N = 3\n",
    "\n",
    "print(\"The input array is:\",arr,\"\\n\")\n",
    "print(\"Number of columns in output matrix should be:\",N,\"\\n\")\n",
    "print(\"Vander matrix of the input array in decreasing order of powers:\\n\\n\",vander_matrix(arr, N),\"\\n\")\n",
    "print(\"Vander matrix of the input array in increasing order of powers:\\n\\n\",vander_matrix(arr, N, True),\"\\n\")"
   ]
  },
  {
   "cell_type": "markdown",
   "metadata": {},
   "source": [
    "# Done !"
   ]
  }
 ],
 "metadata": {
  "kernelspec": {
   "display_name": "Python 3",
   "language": "python",
   "name": "python3"
  },
  "language_info": {
   "codemirror_mode": {
    "name": "ipython",
    "version": 3
   },
   "file_extension": ".py",
   "mimetype": "text/x-python",
   "name": "python",
   "nbconvert_exporter": "python",
   "pygments_lexer": "ipython3",
   "version": "3.6.5"
  }
 },
 "nbformat": 4,
 "nbformat_minor": 2
}
