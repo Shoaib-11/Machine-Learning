{
 "cells": [
  {
   "cell_type": "markdown",
   "metadata": {},
   "source": [
    "## Question 1\n",
    "* Create the below pattern using nested for loop in Python:"
   ]
  },
  {
   "cell_type": "code",
   "execution_count": 4,
   "metadata": {},
   "outputs": [
    {
     "name": "stdout",
     "output_type": "stream",
     "text": [
      "*\n",
      "**\n",
      "***\n",
      "****\n",
      "*****\n",
      "****\n",
      "***\n",
      "**\n",
      "*\n"
     ]
    }
   ],
   "source": [
    "i = 1\n",
    "\n",
    "#First while loop for the first half of the pattern i.e i = 1 to 5 !!\n",
    "while i <= 5:\n",
    "    print('*' * i)\n",
    "    if i == 5:\n",
    "        i -= 1  # When i has become 5, printing 5 stars, changing i back to 4 and coming out of the loop using break !!\n",
    "        break\n",
    "    i += 1\n",
    "    \n",
    "# So, now i = 4 and using second loop, printing the other half of the required pattern !!\n",
    "while i>= 1:\n",
    "    print('*' * i)\n",
    "    i -= 1"
   ]
  },
  {
   "cell_type": "markdown",
   "metadata": {},
   "source": [
    "## Question 2\n",
    "* Write a Python program to reverse a word after accepting the input from the user.\n",
    "* `Sample Output` :\n",
    "Input word: ineuron\n",
    "Output: norueni"
   ]
  },
  {
   "cell_type": "code",
   "execution_count": 10,
   "metadata": {},
   "outputs": [
    {
     "name": "stdout",
     "output_type": "stream",
     "text": [
      "Enter your word here: \n",
      "ineuron\n",
      "norueni\n"
     ]
    }
   ],
   "source": [
    "#Assigning the word entered by user to variable named \"word\"\n",
    "word = input(\"Enter your word here: \\n\")\n",
    "\n",
    "#Using string concatenation, reversing the variable word !!\n",
    "print(word[::-1])"
   ]
  },
  {
   "cell_type": "code",
   "execution_count": null,
   "metadata": {},
   "outputs": [],
   "source": []
  }
 ],
 "metadata": {
  "kernelspec": {
   "display_name": "Python 3",
   "language": "python",
   "name": "python3"
  },
  "language_info": {
   "codemirror_mode": {
    "name": "ipython",
    "version": 3
   },
   "file_extension": ".py",
   "mimetype": "text/x-python",
   "name": "python",
   "nbconvert_exporter": "python",
   "pygments_lexer": "ipython3",
   "version": "3.6.5"
  }
 },
 "nbformat": 4,
 "nbformat_minor": 2
}
