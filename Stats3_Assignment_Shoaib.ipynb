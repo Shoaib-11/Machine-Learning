{
 "cells": [
  {
   "cell_type": "markdown",
   "metadata": {},
   "source": [
    "##### Importing the Libraries:"
   ]
  },
  {
   "cell_type": "code",
   "execution_count": 1,
   "metadata": {},
   "outputs": [],
   "source": [
    "import pandas as pd\n",
    "import numpy as np\n",
    "import matplotlib.pyplot as plt\n",
    "import seaborn as sns\n",
    "from scipy import stats\n",
    "%matplotlib inline"
   ]
  },
  {
   "cell_type": "markdown",
   "metadata": {},
   "source": [
    "### Problem Statement 1:\n",
    "Blood glucose levels for obese patients have a mean of 100 with a standard deviation of 15. A researcher thinks that a diet high in raw cornstarch will have a positive effect on\n",
    "blood glucose levels. A sample of 36 patients who have tried the raw cornstarch diet\n",
    "have a mean glucose level of 108. Test the hypothesis that the raw cornstarch had an\n",
    "effect or not.\n"
   ]
  },
  {
   "cell_type": "code",
   "execution_count": 4,
   "metadata": {},
   "outputs": [
    {
     "name": "stdout",
     "output_type": "stream",
     "text": [
      "The claim made by researcher is correct that the raw cornstarch diet had the effect on patients!!\n"
     ]
    }
   ],
   "source": [
    "# As the sample size is large and population std deviation is known, we will use z-test\n",
    "\n",
    "# H0: μ1 = μ2\n",
    "# H1: μ1 ≠ μ2 \n",
    "\n",
    "std_err = 15 / np.sqrt(36)  # standard error = std deviation / (sample size)**0.5\n",
    "z_statistic = (108 - 100)/ std_err # z_statistic = (Sample mean - Population mean) / standard error\n",
    "\n",
    "# As this is a two tailed test with alpha = 0.05. Using, z table, we get z_critical = +1.96 and -1.96.\n",
    "\n",
    "#Our z_statistic = 3.2 whose p_value = 0.0007 which is less than any of our general level of significance.\n",
    "#So, we reject the null hypothesis.\n",
    "\n",
    "print(\"The claim made by researcher is correct that the raw cornstarch diet had the effect on patients!!\")"
   ]
  },
  {
   "cell_type": "markdown",
   "metadata": {},
   "source": [
    "### Problem Statement 2:\n",
    "In one state, 52% of the voters are Republicans, and 48% are Democrats. In a second\n",
    "state, 47% of the voters are Republicans, and 53% are Democrats. Suppose a simple\n",
    "random sample of 100 voters are surveyed from each state.\n",
    "What is the probability that the survey will show a greater percentage of Republican\n",
    "voters in the second state than in the first state?\n"
   ]
  },
  {
   "cell_type": "markdown",
   "metadata": {},
   "source": [
    "##### Answer:\n",
    "Let P1 = the proportion of Republican voters in the first state, \n",
    "P2 = the proportion of Republican voters in the second state, \n",
    "p1 = the proportion of Republican voters in the sample from the first state, \n",
    "and p2 = the proportion of Republican voters in the sample from the second state. \n",
    "The number of voters sampled from the first state (n1) = 100, and the number of voters sampled from the second state (n2) = 100."
   ]
  },
  {
   "cell_type": "markdown",
   "metadata": {},
   "source": [
    "The mean of the difference in sample proportions: E(p1 - p2) = P1 - P2 = 0.52 - 0.47 = 0.05.\n",
    "\n",
    "The standard deviation of the difference : np.sqrt((p1 * (1 - p1) / n1) + (p2 * (1 - p2) / n2)) = 0.0706\n",
    "\n",
    "Hypothesis : \n",
    "H0 : p1 - p2 <= 0\n",
    "H1 : p1 - p2 > 0\n",
    "\n",
    "z_statistic = (0 - 0.05) / 0.0706\n",
    "\n",
    "p_value for this z_statistic = 0.24 \n",
    "\n",
    "`Therefore, the probability that the survey will show a greater percentage of Republican voters in the second state than in the first state is 0.24.`"
   ]
  },
  {
   "cell_type": "markdown",
   "metadata": {},
   "source": [
    "### Problem Statement 3:\n",
    "You take the SAT and score 1100. The mean score for the SAT is 1026 and the standard\n",
    "deviation is 209. How well did you score on the test compared to the average test taker?"
   ]
  },
  {
   "cell_type": "code",
   "execution_count": 5,
   "metadata": {},
   "outputs": [],
   "source": [
    "my_score = 1100\n",
    "mean_score = 1026\n",
    "std_deviation = 209\n",
    "\n",
    "z_score = (my_score - mean_score) / std_deviation\n",
    "\n",
    "#z_score is coming out to be : 0.354 That means my score is (0.354 * std_deviation) away from the mean in +ve direction\n",
    "\n",
    "#Or we can say I have got 73.986 better score than the average test taker !!"
   ]
  },
  {
   "cell_type": "markdown",
   "metadata": {},
   "source": [
    "# Done !"
   ]
  }
 ],
 "metadata": {
  "kernelspec": {
   "display_name": "Python 3",
   "language": "python",
   "name": "python3"
  },
  "language_info": {
   "codemirror_mode": {
    "name": "ipython",
    "version": 3
   },
   "file_extension": ".py",
   "mimetype": "text/x-python",
   "name": "python",
   "nbconvert_exporter": "python",
   "pygments_lexer": "ipython3",
   "version": "3.6.5"
  }
 },
 "nbformat": 4,
 "nbformat_minor": 2
}
