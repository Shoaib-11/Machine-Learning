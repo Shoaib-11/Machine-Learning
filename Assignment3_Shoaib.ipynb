{
 "cells": [
  {
   "cell_type": "markdown",
   "metadata": {},
   "source": [
    "## Question 1:\n",
    "\n",
    "* Write a Python Program to implement your own myreduce() function which works exactly like Python's built-in function reduce() "
   ]
  },
  {
   "cell_type": "markdown",
   "metadata": {},
   "source": [
    "##### I have done it using two approaches :\n",
    "* for loop Approach\n",
    "* Recursion Approach"
   ]
  },
  {
   "cell_type": "code",
   "execution_count": 120,
   "metadata": {},
   "outputs": [],
   "source": [
    "# For loop Approach : I am naming this function myreduce1:\n",
    "\n",
    "# Reduce will produce a single result\n",
    "def myreduce1(func, seq):\n",
    "# Get first item in sequence and assign to result\n",
    "    result = seq[0]\n",
    "# iterate over remaining items in sequence and apply reduction function \n",
    "    for item in seq[1:]:\n",
    "        result = func(result, item)\n",
    "    return result"
   ]
  },
  {
   "cell_type": "code",
   "execution_count": 121,
   "metadata": {},
   "outputs": [],
   "source": [
    "# Recursion Approach (Alternate)\n",
    "\n",
    "#Let's start by defining a function named 'myreduce' which takes two parameters... \n",
    "#'func' i.e the function and 'seq' i.e the sequence on which we want to apply the func !!\n",
    "def myreduce(func, seq):\n",
    "    if len(seq) > 2: #if length of seq is > 2, we will follow the following instructions\n",
    "        x = func(seq[0],seq[1]) #Applying the function on first two elements\n",
    "        new_list = [x] #creating a new list which has only the result we got i.e x\n",
    "        new_list.extend(seq[2:]) #Creating a new list with our result and other elements\n",
    "        z = myreduce(func, new_list) #Recalling the myreduce function on new list\n",
    "        #So, this process will be followed untill the if condition fails !!\n",
    "        return z #LAST STEP -> And finally we return the variable z !!\n",
    "    elif len(seq) == 2: #Now, when we have only last 2 elements:\n",
    "        return func(seq[0],seq[1]) #So, when len(seq) == 2, this is returned to z\n",
    "    else: #This is for the case if the sequence contains only one element !!\n",
    "        return seq[0]"
   ]
  },
  {
   "cell_type": "markdown",
   "metadata": {},
   "source": [
    "###### Illustrating with an example:\n",
    "* seq = ['Hi', 'There' ,'Bro']\n",
    "* func = lambda a,b: a+b\n",
    "* Expected Output : 'HiThereBro'"
   ]
  },
  {
   "cell_type": "code",
   "execution_count": 122,
   "metadata": {},
   "outputs": [
    {
     "data": {
      "text/plain": [
       "'HiThereBro'"
      ]
     },
     "execution_count": 122,
     "metadata": {},
     "output_type": "execute_result"
    }
   ],
   "source": [
    "lst =['Hi','There','Bro']\n",
    "myreduce1(lambda a,b: a+b,lst)"
   ]
  },
  {
   "cell_type": "code",
   "execution_count": 123,
   "metadata": {},
   "outputs": [
    {
     "data": {
      "text/plain": [
       "'HiThereBro'"
      ]
     },
     "execution_count": 123,
     "metadata": {},
     "output_type": "execute_result"
    }
   ],
   "source": [
    "lst =['Hi','There','Bro']\n",
    "myreduce(lambda a,b: a+b,lst)"
   ]
  },
  {
   "cell_type": "markdown",
   "metadata": {},
   "source": [
    "## Question 2:\n",
    "\n",
    "* Write a Python program to implement your own myfilter() function which works exactly like Python's built-in function filter()"
   ]
  },
  {
   "cell_type": "code",
   "execution_count": 71,
   "metadata": {},
   "outputs": [],
   "source": [
    "# I have defined my function as list_myfilter because it is used with list function\n",
    "#Defining my function parameters : func and seq\n",
    "def list_myfilter(func, seq):\n",
    "    my_list = [] # Creating a fresh list which needs to be returned\n",
    "    for i in seq:\n",
    "        if func(i): #This condition basically checks whether func(i) is True or not\n",
    "            my_list.append(i) #If True, append that element to our my_list\n",
    "    return my_list"
   ]
  },
  {
   "cell_type": "markdown",
   "metadata": {},
   "source": [
    "###### Illustrating with an example:\n",
    "* seq = [1,2,3,4,5,6,7,8]\n",
    "* func = \n",
    "def even_check(num):\n",
    "    if num%2 ==0:\n",
    "    return True\n",
    "* list_myfilter(even_check,seq)\n",
    "* Expected Output : [2, 4, 6, 8]"
   ]
  },
  {
   "cell_type": "code",
   "execution_count": 72,
   "metadata": {},
   "outputs": [
    {
     "data": {
      "text/plain": [
       "[2, 4, 6, 8]"
      ]
     },
     "execution_count": 72,
     "metadata": {},
     "output_type": "execute_result"
    }
   ],
   "source": [
    "#First let's make a function\n",
    "def even_check(num):\n",
    "    if num%2 ==0:\n",
    "        return True\n",
    "\n",
    "lst =[1,2,3,4,5,6,7,8]\n",
    "\n",
    "list_myfilter(even_check,lst)"
   ]
  },
  {
   "cell_type": "code",
   "execution_count": 73,
   "metadata": {},
   "outputs": [
    {
     "data": {
      "text/plain": [
       "[2, 4, 6, 8]"
      ]
     },
     "execution_count": 73,
     "metadata": {},
     "output_type": "execute_result"
    }
   ],
   "source": [
    "list_myfilter(lambda x: x%2==0,lst)"
   ]
  },
  {
   "cell_type": "markdown",
   "metadata": {},
   "source": [
    "## Question 3:\n",
    "\n",
    "* Implement List comprehensions to produce the following lists. Write List comprehensions to produce the following Lists"
   ]
  },
  {
   "cell_type": "markdown",
   "metadata": {},
   "source": [
    "* ['x', 'xx', 'xxx', 'xxxx', 'y', 'yy', 'yyy', 'yyyy', 'z', 'zz', 'zzz', 'zzzz']\n",
    "* ['x', 'y', 'z', 'xx', 'yy', 'zz', 'xxx', 'yyy', 'zzz', 'xxxx', 'yyyy', 'zzzz']\n",
    "* [[2], [3], [4], [3], [4], [5], [4], [5], [6]] [[2, 3, 4, 5], [3, 4, 5, 6], [4, 5, 6, 7], [5, 6, 7, 8]]\n",
    "* [(1, 1), (2, 1), (3, 1), (1, 2), (2, 2), (3, 2), (1, 3), (2, 3), (3, 3)]"
   ]
  },
  {
   "cell_type": "code",
   "execution_count": 85,
   "metadata": {},
   "outputs": [
    {
     "data": {
      "text/plain": [
       "['x', 'xx', 'xxx', 'xxxx', 'y', 'yy', 'yyy', 'yyyy', 'z', 'zz', 'zzz', 'zzzz']"
      ]
     },
     "execution_count": 85,
     "metadata": {},
     "output_type": "execute_result"
    }
   ],
   "source": [
    "# First One:\n",
    "[j*i for j in ['x','y','z'] for i in range(1,5)]"
   ]
  },
  {
   "cell_type": "code",
   "execution_count": 86,
   "metadata": {},
   "outputs": [
    {
     "data": {
      "text/plain": [
       "['x', 'y', 'z', 'xx', 'yy', 'zz', 'xxx', 'yyy', 'zzz', 'xxxx', 'yyyy', 'zzzz']"
      ]
     },
     "execution_count": 86,
     "metadata": {},
     "output_type": "execute_result"
    }
   ],
   "source": [
    "# Second One:\n",
    "[j*i for i in range(1,5) for j in ['x','y','z']]"
   ]
  },
  {
   "cell_type": "code",
   "execution_count": 125,
   "metadata": {},
   "outputs": [
    {
     "name": "stdout",
     "output_type": "stream",
     "text": [
      "[[2], [3], [4], [3], [4], [5], [4], [5], [6], [[2, 3, 4, 5], [3, 4, 5, 6], [4, 5, 6, 7], [5, 6, 7, 8]]]\n"
     ]
    }
   ],
   "source": [
    "#Third one:\n",
    "x = [[item+num] for item in [2,3,4] for num in range(3)]\n",
    "y = [[j+i for j in [2,3,4,5]] for i in range(4)]\n",
    "x.append(y)\n",
    "print(x)"
   ]
  },
  {
   "cell_type": "code",
   "execution_count": 89,
   "metadata": {},
   "outputs": [
    {
     "data": {
      "text/plain": [
       "[(1, 1), (2, 1), (3, 1), (1, 2), (2, 2), (3, 2), (1, 3), (2, 3), (3, 3)]"
      ]
     },
     "execution_count": 89,
     "metadata": {},
     "output_type": "execute_result"
    }
   ],
   "source": [
    "#Fourth one\n",
    "[(i,j) for j in range(1,4) for i in range(1,4)]"
   ]
  }
 ],
 "metadata": {
  "kernelspec": {
   "display_name": "Python 3",
   "language": "python",
   "name": "python3"
  },
  "language_info": {
   "codemirror_mode": {
    "name": "ipython",
    "version": 3
   },
   "file_extension": ".py",
   "mimetype": "text/x-python",
   "name": "python",
   "nbconvert_exporter": "python",
   "pygments_lexer": "ipython3",
   "version": "3.6.5"
  }
 },
 "nbformat": 4,
 "nbformat_minor": 2
}
