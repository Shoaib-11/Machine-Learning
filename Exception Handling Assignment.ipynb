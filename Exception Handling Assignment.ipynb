{
 "cells": [
  {
   "cell_type": "markdown",
   "metadata": {},
   "source": [
    "## Question 1:\n",
    "\n",
    "Write a function to compute 5/0 and use try/except to catch the exceptions."
   ]
  },
  {
   "cell_type": "code",
   "execution_count": 1,
   "metadata": {},
   "outputs": [],
   "source": [
    "def Five_div_zero():\n",
    "    try:\n",
    "        return 5/0\n",
    "    \n",
    "    except ZeroDivisionError:\n",
    "        print(\"Division by zero not allowed !!\")\n",
    "\n",
    "    except:\n",
    "        print(\"An error has occured. Provide valid inputs\")"
   ]
  },
  {
   "cell_type": "code",
   "execution_count": 2,
   "metadata": {},
   "outputs": [
    {
     "name": "stdout",
     "output_type": "stream",
     "text": [
      "Division by zero not allowed !!\n"
     ]
    }
   ],
   "source": [
    "Five_div_zero() # Due to ZeroDivisionError, first except statement will be executed !!"
   ]
  },
  {
   "cell_type": "markdown",
   "metadata": {},
   "source": [
    "## Question 2:\n",
    "\n",
    "* Implement a Python program to generate all sentences where subject is in [\"Americans\", \"Indians\"] and verb is in [\"Play\", \"watch\"] and the object is in [\"Baseball\",\"cricket\"].\n",
    "* Hint: Subject,Verb and Object should be declared in the program as shown below.\n",
    "* subjects = [ \"Americans \",\"Indians\" ]\n",
    "* verbs = [ \"play\",\"watch\" ]\n",
    "* objects = [ \"Baseball\",\"Cricket\" ]\n",
    "* Output should come as below:\n",
    "* Americans play Baseball.\n",
    "* Americans play Cricket.\n",
    "* Americans watch Baseball.\n",
    "* Americans watch Cricket.\n",
    "* Indians play Baseball.\n",
    "* Indians play Cricket.\n",
    "* Indians watch Baseball.\n",
    "* Indians watch Cricket."
   ]
  },
  {
   "cell_type": "code",
   "execution_count": 3,
   "metadata": {},
   "outputs": [
    {
     "name": "stdout",
     "output_type": "stream",
     "text": [
      "Americans play Baseball\n",
      "Americans play Cricket\n",
      "Americans watch Baseball\n",
      "Americans watch Cricket\n",
      "Indians play Baseball\n",
      "Indians play Cricket\n",
      "Indians watch Baseball\n",
      "Indians watch Cricket\n"
     ]
    }
   ],
   "source": [
    "subjects = [\"Americans\",\"Indians\"]\n",
    "verbs = [\"play\",\"watch\"]\n",
    "objects = [\"Baseball\",\"Cricket\"]\n",
    "\n",
    "my_list = [sub + \" \" + verb + \" \" + obj for sub in subjects for verb in verbs for obj in objects]\n",
    "\n",
    "for sentence in my_list:\n",
    "    print(sentence)"
   ]
  },
  {
   "cell_type": "markdown",
   "metadata": {},
   "source": [
    "## Done"
   ]
  }
 ],
 "metadata": {
  "kernelspec": {
   "display_name": "Python 3",
   "language": "python",
   "name": "python3"
  },
  "language_info": {
   "codemirror_mode": {
    "name": "ipython",
    "version": 3
   },
   "file_extension": ".py",
   "mimetype": "text/x-python",
   "name": "python",
   "nbconvert_exporter": "python",
   "pygments_lexer": "ipython3",
   "version": "3.6.5"
  }
 },
 "nbformat": 4,
 "nbformat_minor": 2
}
