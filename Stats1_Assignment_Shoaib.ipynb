{
 "cells": [
  {
   "cell_type": "markdown",
   "metadata": {},
   "source": [
    "#### Importing the Libraries:"
   ]
  },
  {
   "cell_type": "code",
   "execution_count": 1,
   "metadata": {},
   "outputs": [],
   "source": [
    "import pandas as pd\n",
    "import numpy as np\n",
    "import matplotlib.pyplot as plt\n",
    "import seaborn as sns\n",
    "from scipy import stats\n",
    "%matplotlib inline"
   ]
  },
  {
   "cell_type": "markdown",
   "metadata": {},
   "source": [
    "#### Calculate the mean, median, mode and standard deviation for the problem statements 1 & 2.\n",
    "\n",
    "### Problem Statement 1:\n",
    "\n",
    "* The marks awarded for an assignment set for a Year 8 class of 20 students were as follows:\n",
    "6 7 5 7 7 8 7 6 9 7 4 10 6 8 8 9 5 6 4 8"
   ]
  },
  {
   "cell_type": "code",
   "execution_count": 2,
   "metadata": {},
   "outputs": [
    {
     "name": "stdout",
     "output_type": "stream",
     "text": [
      "Mean of the above marks is: 6.85\n",
      "Median of the above marks is: 7.0\n",
      "Mode of the above marks is: 7\n"
     ]
    }
   ],
   "source": [
    "marks = np.array([6,7,5,7,7,8,7,6,9,7,4,10,6,8,8,9,5,6,4,8])\n",
    "mean = np.mean(marks)\n",
    "median = np.median(marks)\n",
    "mode = stats.mode(marks)\n",
    "\n",
    "print(f\"Mean of the above marks is: {mean}\")\n",
    "print(f\"Median of the above marks is: {median}\")\n",
    "print(f\"Mode of the above marks is: {mode.mode[0]}\")"
   ]
  },
  {
   "cell_type": "markdown",
   "metadata": {},
   "source": [
    "### Problem Statement 2:\n",
    "\n",
    "* The number of calls from motorists per day for roadside service was recorded for a particular month:\n",
    "28, 122, 217, 130, 120, 86, 80, 90, 140, 120, 70, 40, 145, 113, 90, 68, 174, 194, 170, 100, 75, 104, 97, 75,\n",
    "123, 100, 75, 104, 97, 75, 123, 100, 89, 120, 109"
   ]
  },
  {
   "cell_type": "code",
   "execution_count": 3,
   "metadata": {},
   "outputs": [
    {
     "name": "stdout",
     "output_type": "stream",
     "text": [
      "Mean of the above calls is: 107.51428571428572\n",
      "Median of the above calls is: 100.0\n",
      "Mode of the above calls is: 75\n"
     ]
    }
   ],
   "source": [
    "calls = np.array([28, 122, 217, 130, 120, 86, 80, 90, 140, 120, 70, 40, 145, 113, 90, 68, 174, 194, 170, 100, 75, 104, 97, 75, 123, 100, 75, 104, 97, 75, 123, 100, 89, 120, 109])\n",
    "mean_2 = np.mean(calls)\n",
    "median_2 = np.median(calls)\n",
    "mode_2 = stats.mode(calls)\n",
    "\n",
    "print(f\"Mean of the above calls is: {mean_2}\")\n",
    "print(f\"Median of the above calls is: {median_2}\")\n",
    "print(f\"Mode of the above calls is: {mode_2.mode[0]}\")"
   ]
  },
  {
   "cell_type": "markdown",
   "metadata": {},
   "source": [
    "### Problem Statement 3:\n",
    "* The number of times I go to the gym in weekdays, are given below along with its associated probability:\n",
    "- x = 0, 1, 2, 3, 4, 5\n",
    "- f(x) = 0.09, 0.15, 0.40, 0.25, 0.10, 0.01\n",
    "* Calculate the mean no. of workouts in a week. Also evaluate the variance involved in it."
   ]
  },
  {
   "cell_type": "code",
   "execution_count": 6,
   "metadata": {},
   "outputs": [
    {
     "name": "stdout",
     "output_type": "stream",
     "text": [
      "Mean no. of workouts in a week are: 2.15\n",
      "The variance involved in it is: 1.23\n"
     ]
    }
   ],
   "source": [
    "x = np.array([0, 1, 2, 3, 4, 5])\n",
    "px = np.array([0.09, 0.15, 0.40, 0.25, 0.10, 0.01])\n",
    "\n",
    "mean = sum(x*px)\n",
    "\n",
    "var = sum((((x-mean)**2)*px))\n",
    "\n",
    "print(f\"Mean no. of workouts in a week are: {mean.round(2)}\\nThe variance involved in it is: {var.round(2)}\")"
   ]
  },
  {
   "cell_type": "markdown",
   "metadata": {},
   "source": [
    "### Problem Statement 4:\n",
    "\n",
    "* Let the continuous random variable D denote the diameter of the hole drilled in an aluminum sheet. The target diameter to be achieved is 12.5mm. Random disturbances in the process often result in inaccuracy.\n",
    "\n",
    "* Historical data shows that the distribution of D can be modelled by the PDF (d) = 20e−20(d−12.5), d ≥ 12.5. If a part with diameter > 12.6 mm needs to be scrapped, what is the proportion of those parts? What is the CDF when the diameter is of 11 mm? What is your conclusion regarding the proportion of scraps?"
   ]
  },
  {
   "cell_type": "code",
   "execution_count": 62,
   "metadata": {},
   "outputs": [
    {
     "name": "stdout",
     "output_type": "stream",
     "text": [
      "So, the proportion scrapped is equal to 13.53%.\n"
     ]
    }
   ],
   "source": [
    "#The proportion scrapped would be the area under the curve from d = 12.6 to d = infinity\n",
    "import scipy.integrate as integrate\n",
    "I = integrate.quad(lambda d: 20*np.exp(-20*(d-12.5)), 12.6, np.inf)\n",
    "\n",
    "#So, the proportion scrapped would be equal to:\n",
    "proportion_scrapped = I[0]\n",
    "\n",
    "print(f\"So, the proportion scrapped is equal to {round((proportion_scrapped * 100),2)}%.\")"
   ]
  },
  {
   "cell_type": "code",
   "execution_count": 40,
   "metadata": {},
   "outputs": [
    {
     "name": "stdout",
     "output_type": "stream",
     "text": [
      "CDF when d = 11mm would be 0 because the pdf itself is 0 before d = 12.5mm\n"
     ]
    }
   ],
   "source": [
    "print(\"CDF when d = 11mm would be 0 because the pdf itself is 0 before d = 12.5mm\")"
   ]
  },
  {
   "cell_type": "code",
   "execution_count": 41,
   "metadata": {},
   "outputs": [
    {
     "name": "stdout",
     "output_type": "stream",
     "text": [
      "The proportion of scraps is 13.5% is decent enough low as compared to 86.5% of correct holes !\n"
     ]
    }
   ],
   "source": [
    "#conclusion regarding the proportion of scraps:\n",
    "print(\"The proportion of scraps is 13.5% is decent enough low as compared to 86.5% of correct holes !\")"
   ]
  },
  {
   "cell_type": "markdown",
   "metadata": {},
   "source": [
    "### Problem Statement 5:\n",
    "\n",
    "* A company manufactures LED bulbs with a faulty rate of 30%. If I randomly select 6 chosen LEDs, what is the probability of having 2 faulty LEDs in my sample?\n",
    "\n",
    "* Calculate the average value of this process. Also evaluate the standard deviation associated with it."
   ]
  },
  {
   "cell_type": "code",
   "execution_count": 49,
   "metadata": {},
   "outputs": [
    {
     "name": "stdout",
     "output_type": "stream",
     "text": [
      "Answer : 0.3241349999999999\n"
     ]
    }
   ],
   "source": [
    "#This is a binomial distribution: \n",
    "#Success - Having faulty LED's & Faliure - Having non faulty one !\n",
    "#We have to find probability with 2 success in 6.\n",
    "#Answer = 6c2 * (0.3)**2 * (0.7)**4\n",
    "\n",
    "p = (6*5/2) * (0.3)**2 * (0.7)**4\n",
    "\n",
    "print(f\"Answer : {p}\")"
   ]
  },
  {
   "cell_type": "code",
   "execution_count": 61,
   "metadata": {},
   "outputs": [
    {
     "name": "stdout",
     "output_type": "stream",
     "text": [
      "So, the average value of this process is: 1.8\n",
      "Also, the standard deviation associated with it: 1.12 !!\n"
     ]
    }
   ],
   "source": [
    "mean = 6 * 0.3 # mean = n * p\n",
    "std = np.sqrt(6 * 0.3 * (1-0.3)) # var = n * p * (1-p) & std = np.sqrt(var)\n",
    "\n",
    "print(f\"So, the average value of this process is: {round(mean,2)}\")\n",
    "print(f\"Also, the standard deviation associated with it: {round(std,2)} !!\")"
   ]
  },
  {
   "cell_type": "markdown",
   "metadata": {},
   "source": [
    "### Problem Statement 6:\n",
    "\n",
    "Gaurav and Barakha are both preparing for entrance exams. Gaurav attempts to solve 8 questions per day with a correction rate of 75%, while Barakha averages around 12 questions per day with a correction rate of 45%. What is the probability that each of them will solve 5 questions correctly? What happens in cases of 4 and 6 correct solutions? What do you infer from it? What are the two main governing factors affecting their ability to solve questions correctly? Give a pictorial representation of the same to validate your answer."
   ]
  },
  {
   "cell_type": "code",
   "execution_count": 68,
   "metadata": {},
   "outputs": [
    {
     "name": "stdout",
     "output_type": "stream",
     "text": [
      "Probability that each of them will solve 5 questions correctly is: 0.046\n"
     ]
    }
   ],
   "source": [
    "#This is a binomial distribution: \n",
    "#Success - Doing question correctly & Faliure - Doing wrongly !\n",
    "#We have to find probability with 5 success in 8 for gaurav and 5 in 12 for barakha.\n",
    "#Answer = p_gaurav * p_barakha (intersection)\n",
    "\n",
    "p_gaurav = (8*7*6/6) * (0.75)**5 * (0.25)**3\n",
    "p_barakha = (12*11*10*9*8/120) * (0.45)**5 * (0.55)**7\n",
    "\n",
    "p_both_5 = p_gaurav * p_barakha  #Independent Events\n",
    "\n",
    "print(f\"Probability that each of them will solve 5 questions correctly is: {round(p_both_5,3)}\")"
   ]
  },
  {
   "cell_type": "code",
   "execution_count": 69,
   "metadata": {},
   "outputs": [
    {
     "name": "stdout",
     "output_type": "stream",
     "text": [
      "Probability that each of them will solve 5 questions correctly is: 0.015\n"
     ]
    }
   ],
   "source": [
    "# 4 correct solutions:\n",
    "p_gaurav = (8*7*6*5/24) * (0.75)**4 * (0.25)**4\n",
    "p_barakha = (12*11*10*9/24) * (0.45)**4 * (0.55)**8\n",
    "\n",
    "p_both_4 = p_gaurav * p_barakha\n",
    "\n",
    "print(f\"Probability that each of them will solve 5 questions correctly is: {round(p_both_4,3)}\")"
   ]
  },
  {
   "cell_type": "code",
   "execution_count": 70,
   "metadata": {},
   "outputs": [
    {
     "name": "stdout",
     "output_type": "stream",
     "text": [
      "Probability that each of them will solve 5 questions correctly is: 0.066\n"
     ]
    }
   ],
   "source": [
    "# 6 correct solutions:\n",
    "p_gaurav = (8*7/2) * (0.75)**6 * (0.25)**2\n",
    "p_barakha = (12*11*10*9*8*7/720) * (0.45)**6 * (0.55)**6\n",
    "\n",
    "p_both_6 = p_gaurav * p_barakha\n",
    "\n",
    "print(f\"Probability that each of them will solve 5 questions correctly is: {round(p_both_6,3)}\")"
   ]
  },
  {
   "cell_type": "markdown",
   "metadata": {},
   "source": [
    "##### Inference:\n",
    "Probability is increasing with number of questions solved correctly\n",
    "\n",
    "##### Two governing factors:\n",
    "1. Number of questions solved\n",
    "2. Accuracy in solving\n",
    "\n",
    "##### Pictorial representation:"
   ]
  },
  {
   "cell_type": "code",
   "execution_count": 106,
   "metadata": {},
   "outputs": [
    {
     "data": {
      "image/png": "[encoded data removed]",
      "text/plain": [
       "<Figure size 432x288 with 1 Axes>"
      ]
     },
     "metadata": {},
     "output_type": "display_data"
    }
   ],
   "source": [
    "# Number of Correct quesions vs Probability of both solving that no. of questions correctly\n",
    "\n",
    "plt.plot([4,5,6], [p_both_4,p_both_5,p_both_6], 'bo')\n",
    "plt.xlabel('Number of correct questions')\n",
    "plt.ylabel('Probability of both solving that no. of ques')\n",
    "plt.show()"
   ]
  },
  {
   "cell_type": "code",
   "execution_count": 147,
   "metadata": {},
   "outputs": [
    {
     "data": {
      "image/png": "[encoded data removed]",
      "text/plain": [
       "<Figure size 720x576 with 1 Axes>"
      ]
     },
     "metadata": {},
     "output_type": "display_data"
    }
   ],
   "source": [
    "# Accuracies of Gaurav and Barakha in solving 6 questions correctly vs Probability\n",
    "\n",
    "# 6 correct solutions:\n",
    "np.random.seed(42)\n",
    "\n",
    "def p_both_6_accuracy(n1,n2):\n",
    "    p_gaurav = (8*7/2) * (n1)**6 * (1-n1)**2\n",
    "    p_barakha = (12*11*10*9*8*7/720) * (n2)**6 * (1-n2)**6\n",
    "    p_both_6_f = p_gaurav * p_barakha\n",
    "    return p_both_6_f\n",
    "\n",
    "n1 = np.random.random(5000)\n",
    "n2 = np.random.random(5000)\n",
    "p_b = []\n",
    "\n",
    "for i,j in zip(n1,n2):\n",
    "        p_b.append(p_both_6_accuracy(i,j))\n",
    "\n",
    "from mpl_toolkits.mplot3d import Axes3D\n",
    "\n",
    "fig  = plt.figure(figsize = (10,8))\n",
    "ax = fig.gca(projection = '3d')\n",
    "ax.scatter(n1,n2,p_b)\n",
    "ax.set_xlabel(\"Accuracy of Gaurav in solving questions correctly\")\n",
    "ax.set_ylabel(\"Accuracy of Barakha in solving questions correctly\")\n",
    "ax.set_zlabel(\"Probability of both solving questions correctly\")\n",
    "ax.view_init(elev=20., azim=-40)"
   ]
  },
  {
   "cell_type": "markdown",
   "metadata": {},
   "source": [
    "##### Conclusion:\n",
    "\n",
    "Probability of both solving that many number of questions correctly is maximum when accuracies of both of them is good i.e about 60%. If one is more and other is less, probability decreases. "
   ]
  },
  {
   "cell_type": "markdown",
   "metadata": {},
   "source": [
    "### Problem Statement 7:\n",
    "\n",
    "Customers arrive at a rate of 72 per hour to my shop. What is the probability of k customers arriving in 4 minutes? a) 5 customers, b) not more than 3 customers, c) more than 3 customers. Give a pictorial representation of the same to validate your answer."
   ]
  },
  {
   "cell_type": "code",
   "execution_count": 112,
   "metadata": {},
   "outputs": [],
   "source": [
    "# This is a question of poisson distribution :\n",
    "mean = 72/60 #per minute\n",
    "mean = mean*4 #per 4 minutes\n",
    "#Poisson distribution : p = exp(-mean) * mean**x / fact(x)"
   ]
  },
  {
   "cell_type": "markdown",
   "metadata": {},
   "source": [
    "##### Part a:"
   ]
  },
  {
   "cell_type": "code",
   "execution_count": 115,
   "metadata": {},
   "outputs": [
    {
     "name": "stdout",
     "output_type": "stream",
     "text": [
      "Probability of 5 customers arriving in 4 minutes: 0.175\n"
     ]
    }
   ],
   "source": [
    "x = 5\n",
    "p = np.exp(-mean) * mean**x / 120\n",
    "\n",
    "print(f\"Probability of 5 customers arriving in 4 minutes: {round(p,3)}\")"
   ]
  },
  {
   "cell_type": "markdown",
   "metadata": {},
   "source": [
    "##### Part b:"
   ]
  },
  {
   "cell_type": "code",
   "execution_count": 118,
   "metadata": {},
   "outputs": [
    {
     "name": "stdout",
     "output_type": "stream",
     "text": [
      "Probability of not more than 3 customers arriving in 4 minutes: 0.294\n"
     ]
    }
   ],
   "source": [
    "x = [0,1,2,3]\n",
    "\n",
    "p_0 = np.exp(-mean) * mean**x[0] / 1\n",
    "p_1 = np.exp(-mean) * mean**x[1] / 1\n",
    "p_2 = np.exp(-mean) * mean**x[2] / 2\n",
    "p_3 = np.exp(-mean) * mean**x[3] / 6\n",
    "\n",
    "p_morethan3 = p_0 + p_1 + p_2 + p_3\n",
    "\n",
    "print(f\"Probability of not more than 3 customers arriving in 4 minutes: {round(p_morethan3,3)}\")"
   ]
  },
  {
   "cell_type": "markdown",
   "metadata": {},
   "source": [
    "##### Part c:"
   ]
  },
  {
   "cell_type": "code",
   "execution_count": 120,
   "metadata": {},
   "outputs": [
    {
     "name": "stdout",
     "output_type": "stream",
     "text": [
      "Probability of more than 3 customers arriving in 4 minutes: 0.706\n"
     ]
    }
   ],
   "source": [
    "p_new = 1 - p_morethan3\n",
    "print(f\"Probability of more than 3 customers arriving in 4 minutes: {round(p_new,3)}\")"
   ]
  },
  {
   "cell_type": "markdown",
   "metadata": {},
   "source": [
    "### Problem Statement 8:\n",
    "\n",
    "I work as a data analyst in Aeon Learning Pvt. Ltd. After analyzing data, I make reports, where I have the efficiency of entering 77 words per minute with 6 errors per hour. What is the probability that I will commit 2 errors in a 455-word financial report?\n",
    "\n",
    "* What happens when the no. of words increases/decreases (in case of 1000 words, 255 words)?\n",
    "* How is the λ affected?\n",
    "* How does it influence the PMF?\n",
    "* Give a pictorial representation of the same to validate your answer."
   ]
  },
  {
   "cell_type": "code",
   "execution_count": 121,
   "metadata": {},
   "outputs": [
    {
     "name": "stdout",
     "output_type": "stream",
     "text": [
      "Probability that I will commit 2 errors in a 455-word financial report: 0.097\n"
     ]
    }
   ],
   "source": [
    "t = 455/77 #in minutes. This is the total ime required to write 455 word report\n",
    "\n",
    "mean = 6/60 #errors per minute\n",
    "\n",
    "mean = mean * t #errors in t minutes\n",
    "\n",
    "x = 2 # I have to commit 2 errors in t minutes\n",
    "\n",
    "p_455 = np.exp(-mean) * mean**x / 2\n",
    "\n",
    "print(f\"Probability that I will commit 2 errors in a 455-word financial report: {round(p_455,3)}\")"
   ]
  },
  {
   "cell_type": "code",
   "execution_count": 124,
   "metadata": {},
   "outputs": [
    {
     "name": "stdout",
     "output_type": "stream",
     "text": [
      "Probability that I will commit 2 errors in a 1000-word financial report: 0.014\n"
     ]
    }
   ],
   "source": [
    "# Now if, there are thousand words:\n",
    "t_1000 = 1000/77\n",
    "\n",
    "mean_1000 = mean * t_1000\n",
    "\n",
    "p_1000 = np.exp(-mean_1000) * mean_1000**x / 2\n",
    "\n",
    "print(f\"Probability that I will commit 2 errors in a 1000-word financial report: {round(p_1000,3)}\")"
   ]
  },
  {
   "cell_type": "code",
   "execution_count": 129,
   "metadata": {},
   "outputs": [
    {
     "name": "stdout",
     "output_type": "stream",
     "text": [
      "Probability that I will commit 2 errors in a 1000-word financial report: 0.27\n"
     ]
    }
   ],
   "source": [
    "# Now if, there are 250 words:\n",
    "t_250 = 250/77\n",
    "\n",
    "mean_250 = mean * t_250\n",
    "\n",
    "p_250 = np.exp(-mean_250) * mean_250**x / 2\n",
    "\n",
    "print(f\"Probability that I will commit 2 errors in a 1000-word financial report: {round(p_250,3)}\")"
   ]
  },
  {
   "cell_type": "code",
   "execution_count": 130,
   "metadata": {},
   "outputs": [],
   "source": [
    "def error_n(n):\n",
    "    \"\"\"\n",
    "    Returns the probability of commiting 2 erroes in n-word report\n",
    "    \"\"\"\n",
    "    t_n = n/77\n",
    "    mean_n = mean * t_n\n",
    "    p_n = np.exp(-mean_n) * mean_n**x / 2\n",
    "    return p_n"
   ]
  },
  {
   "cell_type": "code",
   "execution_count": 135,
   "metadata": {},
   "outputs": [
    {
     "data": {
      "image/png": "[encoded data removed]",
      "text/plain": [
       "<Figure size 432x288 with 1 Axes>"
      ]
     },
     "metadata": {},
     "output_type": "display_data"
    }
   ],
   "source": [
    "n = np.arange(10,2000)\n",
    "\n",
    "err_n = []\n",
    "\n",
    "for i in n:\n",
    "    err_n.append(error_n(i))\n",
    "\n",
    "plt.scatter(n,err_n)\n",
    "plt.show()"
   ]
  },
  {
   "cell_type": "markdown",
   "metadata": {},
   "source": [
    "##### Conclusion:\n",
    "\n",
    "* Lambda i.e mean increases with increase in number of words\n",
    "* PMF is basically a Poisson distribution which looks like as shown above."
   ]
  },
  {
   "cell_type": "markdown",
   "metadata": {},
   "source": [
    "### Problem Statement 9:\n",
    "\n",
    "* Let the continuous random variable D denote the diameter of the hole drilled in an aluminum sheet. The target diameter to be achieved is 12.5mm. Random disturbances in the process often result in inaccuracy.\n",
    "\n",
    "* Historical data shows that the distribution of D can be modelled by the PDF (d) = 20e−20(d−12.5), d ≥ 12.5. If a part with diameter > 12.6 mm needs to be scrapped, what is the proportion of those parts? What is the CDF when the diameter is of 11 mm? What is your conclusion regarding the proportion of scraps?"
   ]
  },
  {
   "cell_type": "markdown",
   "metadata": {},
   "source": [
    "###### Repeat question (Problem Statement 4) - Already done !"
   ]
  },
  {
   "cell_type": "markdown",
   "metadata": {},
   "source": [
    "### Problem Statement 10:\n",
    "\n",
    "Please compute the following:\n",
    "1. P(Z > 1.26), . P(Z < −0.86), P(Z > −1.37), P(−1.25 < Z < 0.37), . P(Z ≤ −4.6)\n",
    "2. Find the value z such that P(Z > z) = 0.05\n",
    "3. Find the value of z such that P(−z < Z < z) = 0.99"
   ]
  },
  {
   "cell_type": "markdown",
   "metadata": {},
   "source": [
    "###### Answers:\n",
    "\n",
    "1. P(Z > 1.26) = `0.1038`        (1-0.8962)\n",
    "* P(Z < −0.86) = `0.1949`\n",
    "* P(Z > −1.37) = `0.9147`        (1-0.0853)\n",
    "* P(−1.25 < Z < 0.37) = `0.5387` (0.8944 - 0.3557) \n",
    "* P(Z ≤ −4.6) = `0`\n",
    "\n",
    "2. z for {P(Z > z) = 0.05} is `1.645`\n",
    "\n",
    "3. z for {P(−z < Z < z) = 0.99} is `2.575`"
   ]
  },
  {
   "cell_type": "markdown",
   "metadata": {},
   "source": [
    "### Problem Statement 11:\n",
    "\n",
    "The current flow in a copper wire follow a normal distribution with a mean of 10 mA and a variance of 4 (mA)2.\n",
    "\n",
    "* What is the probability that a current measurement will exceed 13 mA? \n",
    "* What is the probability that a current measurement is between 9 and 11mA? \n",
    "* Determine the current measurement which has a probability of 0.98."
   ]
  },
  {
   "cell_type": "markdown",
   "metadata": {},
   "source": [
    "##### Part a)"
   ]
  },
  {
   "cell_type": "code",
   "execution_count": 138,
   "metadata": {},
   "outputs": [
    {
     "name": "stdout",
     "output_type": "stream",
     "text": [
      "probability that a current measurement will exceed 13 mA: 0.0068\n"
     ]
    }
   ],
   "source": [
    "z_score = (13-10)/np.sqrt(4) # z = (x-mean)/std\n",
    "\n",
    "#Now, probability can be calculated using Z-table: P(z>Z_score) = 1-0.9332\n",
    "\n",
    "p = 0.0068\n",
    "print(f\"probability that a current measurement will exceed 13 mA: {p}\")"
   ]
  },
  {
   "cell_type": "markdown",
   "metadata": {},
   "source": [
    "##### Part b)"
   ]
  },
  {
   "cell_type": "code",
   "execution_count": 139,
   "metadata": {},
   "outputs": [
    {
     "name": "stdout",
     "output_type": "stream",
     "text": [
      "probability that a current measurement will exceed 13 mA: 0.383\n"
     ]
    }
   ],
   "source": [
    "z_1 = (11-10)/np.sqrt(4) # z = (x-mean)/std\n",
    "z_2 = (9-10)/np.sqrt(4)\n",
    "\n",
    "#Now, probability can be calculated using Z-table: P(z1> z >z_2) = 0.6915 - 0.3085\n",
    "\n",
    "p = 0.383\n",
    "print(f\"probability that a current measurement will exceed 13 mA: {p}\")"
   ]
  },
  {
   "cell_type": "markdown",
   "metadata": {},
   "source": [
    "##### Part c)"
   ]
  },
  {
   "cell_type": "code",
   "execution_count": 140,
   "metadata": {},
   "outputs": [
    {
     "name": "stdout",
     "output_type": "stream",
     "text": [
      "Current measurement which has a probability of 0.98: 14.11\n"
     ]
    }
   ],
   "source": [
    "prob = 0.98\n",
    "\n",
    "z_score = 2.055\n",
    "\n",
    "measurement = z_score*np.sqrt(4) + 10\n",
    "\n",
    "print(f\"Current measurement which has a probability of 0.98: {measurement}\")"
   ]
  },
  {
   "cell_type": "markdown",
   "metadata": {},
   "source": [
    "### Problem Statement 12:\n",
    "\n",
    "The shaft in a piston has its diameter normally distributed with a mean of 0.2508 inch and a standard deviation of 0.0005 inch. The specifications of the shaft are 0.2500 ∓ 0.0015 inch. \n",
    "\n",
    "* What proportion of shafts are in sync with the specifications? \n",
    "* If the process is centered so that the mean is equal to the target value of 0.2500, what proportion of shafts conform to the new specifications?\n",
    "* What is your conclusion from this experiment?"
   ]
  },
  {
   "cell_type": "markdown",
   "metadata": {},
   "source": [
    "##### Part a)"
   ]
  },
  {
   "cell_type": "code",
   "execution_count": 143,
   "metadata": {},
   "outputs": [
    {
     "name": "stdout",
     "output_type": "stream",
     "text": [
      "1.4 -4.6\n"
     ]
    }
   ],
   "source": [
    "z_max = (0.2515 - 0.2508)/ 0.0005 # z_max = 1.4\n",
    "z_min = (0.2485 - 0.2508)/ 0.0005 # z_min = -4.6\n",
    "\n",
    "print(round(z_max,2),round(z_min,2))"
   ]
  },
  {
   "cell_type": "code",
   "execution_count": 144,
   "metadata": {},
   "outputs": [
    {
     "name": "stdout",
     "output_type": "stream",
     "text": [
      "Proportion of shafts are in sync with the specifications: 91.92%\n"
     ]
    }
   ],
   "source": [
    "# Now, we have to find out P(z_min < z < z_max) i.e p(-4.6 < z < 1.4)\n",
    "\n",
    "p = 0.9192 # using z-table\n",
    "\n",
    "print(f\"Proportion of shafts are in sync with the specifications: {p*100}%\")"
   ]
  },
  {
   "cell_type": "markdown",
   "metadata": {},
   "source": [
    "##### Part b)"
   ]
  },
  {
   "cell_type": "code",
   "execution_count": 145,
   "metadata": {},
   "outputs": [
    {
     "name": "stdout",
     "output_type": "stream",
     "text": [
      "3.0 -3.0\n"
     ]
    }
   ],
   "source": [
    "z_max_new = (0.2515 - 0.2500)/ 0.0005 # z_max = 3\n",
    "z_min_new = (0.2485 - 0.2500)/ 0.0005 # z_min = -3\n",
    "\n",
    "print(round(z_max_new,2),round(z_min_new,2))"
   ]
  },
  {
   "cell_type": "code",
   "execution_count": 146,
   "metadata": {},
   "outputs": [
    {
     "name": "stdout",
     "output_type": "stream",
     "text": [
      "Proportion of shafts are in sync with the specifications: 99.74%\n"
     ]
    }
   ],
   "source": [
    "# Now, we have to find out P(z_min < z < z_max) i.e p(-3 < z < 3)\n",
    "# which is p(z = 3) - p(z = -3) = 0.9987 - 0.0013\n",
    "\n",
    "p = 0.9974 # using z-table\n",
    "\n",
    "print(f\"Proportion of shafts are in sync with the specifications: {p*100}%\")"
   ]
  },
  {
   "cell_type": "markdown",
   "metadata": {},
   "source": [
    "##### Part c)"
   ]
  },
  {
   "cell_type": "markdown",
   "metadata": {},
   "source": [
    "Conclusion from the experiment is that if the mean of two distributions are same then the proportion of data would be a lot more common as compared to if it isn't.\n",
    "\n",
    "For ex: Here, in the first case when mean was different, the proportion of shafts that are in sync with the specifications was 91.92% while it was 99.74% in the case where mean was same."
   ]
  },
  {
   "cell_type": "markdown",
   "metadata": {},
   "source": [
    "# Done !"
   ]
  }
 ],
 "metadata": {
  "kernelspec": {
   "display_name": "Python 3",
   "language": "python",
   "name": "python3"
  },
  "language_info": {
   "codemirror_mode": {
    "name": "ipython",
    "version": 3
   },
   "file_extension": ".py",
   "mimetype": "text/x-python",
   "name": "python",
   "nbconvert_exporter": "python",
   "pygments_lexer": "ipython3",
   "version": "3.6.5"
  }
 },
 "nbformat": 4,
 "nbformat_minor": 2
}
